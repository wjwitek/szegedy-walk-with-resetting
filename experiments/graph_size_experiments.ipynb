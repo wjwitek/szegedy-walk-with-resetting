{
 "cells": [
  {
   "metadata": {
    "ExecuteTime": {
     "end_time": "2025-05-08T09:43:59.911831Z",
     "start_time": "2025-05-08T09:43:59.864407Z"
    }
   },
   "cell_type": "code",
   "source": [
    "%load_ext autoreload\n",
    "%autoreload 2"
   ],
   "id": "3e1b4879c8ee3c35",
   "outputs": [],
   "execution_count": 1
  },
  {
   "cell_type": "code",
   "id": "initial_id",
   "metadata": {
    "collapsed": true,
    "ExecuteTime": {
     "end_time": "2025-05-08T09:44:00.506214Z",
     "start_time": "2025-05-08T09:43:59.916095Z"
    }
   },
   "source": [
    "from utils.utils import *\n",
    "from utils.graph_generators import *"
   ],
   "outputs": [],
   "execution_count": 2
  },
  {
   "metadata": {},
   "cell_type": "markdown",
   "source": "### Cycle graph v2",
   "id": "81db8a67754cf573"
  },
  {
   "metadata": {
    "ExecuteTime": {
     "end_time": "2025-05-08T09:48:47.534391Z",
     "start_time": "2025-05-08T09:48:43.426638Z"
    }
   },
   "cell_type": "code",
   "source": "ht_50, prob_50 = graph_size_experiment(\"cycle\", initial_state, 50, marked_vertice=lambda x: 1, resetting_rate=0.5, resetting_point=lambda x: 0)",
   "id": "fda8036eacc9c9e9",
   "outputs": [
    {
     "name": "stdout",
     "output_type": "stream",
     "text": [
      "Completed step 5.\n",
      "Completed step 10.\n",
      "Completed step 15.\n",
      "Completed step 20.\n",
      "Completed step 25.\n",
      "Completed step 30.\n",
      "Completed step 35.\n",
      "Completed step 40.\n",
      "Completed step 45.\n"
     ]
    }
   ],
   "execution_count": 8
  },
  {
   "metadata": {
    "ExecuteTime": {
     "end_time": "2025-05-08T09:49:22.286058Z",
     "start_time": "2025-05-08T09:49:15.060934Z"
    }
   },
   "cell_type": "code",
   "source": "ht_50, prob_50 = graph_size_experiment_with_reset(\"cycle\", initial_state, 50, create_resetting_graph, 1000, lambda x: 1, 0.5, resetting_point_func=lambda x: 0)",
   "id": "353ad8eb966ee7a5",
   "outputs": [],
   "execution_count": 9
  },
  {
   "metadata": {},
   "cell_type": "markdown",
   "source": "### Tree v2",
   "id": "8076c8b1ab45fbfc"
  },
  {
   "metadata": {
    "ExecuteTime": {
     "end_time": "2025-05-08T09:50:02.445331Z",
     "start_time": "2025-05-08T09:49:57.939550Z"
    }
   },
   "cell_type": "code",
   "source": "ht_50, prob_50 = graph_size_experiment(\"balanced tree\", initial_state, 50, marked_vertice=lambda x: x - 1, resetting_rate=0.5, resetting_point=lambda x: None)",
   "id": "6e40b168f91d75e7",
   "outputs": [
    {
     "name": "stdout",
     "output_type": "stream",
     "text": [
      "Completed step 5.\n",
      "Completed step 10.\n",
      "Completed step 15.\n",
      "Completed step 20.\n",
      "Completed step 25.\n",
      "Completed step 30.\n",
      "Completed step 35.\n",
      "Completed step 40.\n",
      "Completed step 45.\n"
     ]
    }
   ],
   "execution_count": 10
  },
  {
   "metadata": {},
   "cell_type": "markdown",
   "source": "### Tree",
   "id": "a3c069775994c403"
  },
  {
   "metadata": {
    "ExecuteTime": {
     "end_time": "2025-03-05T08:02:14.725331Z",
     "start_time": "2025-03-05T08:02:10.229431Z"
    }
   },
   "cell_type": "code",
   "source": "ht_50, prob_50 = graph_size_experiment(\"balanced tree\", initial_state, 50, marked_vertice=lambda x: x - 1)",
   "id": "1025ce9ad067da3",
   "outputs": [
    {
     "name": "stdout",
     "output_type": "stream",
     "text": [
      "Completed step 5.\n",
      "Completed step 10.\n",
      "Completed step 15.\n",
      "Completed step 20.\n",
      "Completed step 25.\n",
      "Completed step 30.\n",
      "Completed step 35.\n",
      "Completed step 40.\n",
      "Completed step 45.\n"
     ]
    }
   ],
   "execution_count": 13
  },
  {
   "metadata": {},
   "cell_type": "markdown",
   "source": "### Tree with embedded resetting",
   "id": "1da4ee36c88f5a58"
  },
  {
   "metadata": {
    "ExecuteTime": {
     "end_time": "2025-03-05T08:46:12.742374Z",
     "start_time": "2025-03-05T08:46:08.610591Z"
    }
   },
   "cell_type": "code",
   "source": "ht_50, prob_50 = graph_size_experiment(\"balanced tree\", initial_state, 50, marked_vertice=lambda x: x - 1, resetting_rate=0.5, resetting_point=lambda x: 0)",
   "id": "e0c7979a9530be0",
   "outputs": [
    {
     "name": "stdout",
     "output_type": "stream",
     "text": [
      "Completed step 5.\n",
      "Completed step 10.\n",
      "Completed step 15.\n",
      "Completed step 20.\n",
      "Completed step 25.\n",
      "Completed step 30.\n",
      "Completed step 35.\n",
      "Completed step 40.\n",
      "Completed step 45.\n"
     ]
    }
   ],
   "execution_count": 38
  },
  {
   "metadata": {},
   "cell_type": "markdown",
   "source": "### Tree with alternating resetting",
   "id": "3720c67af9ef6d97"
  },
  {
   "metadata": {
    "ExecuteTime": {
     "end_time": "2025-05-08T09:51:49.555292Z",
     "start_time": "2025-05-08T09:51:41.959232Z"
    }
   },
   "cell_type": "code",
   "source": "ht_50, prob_50 = graph_size_experiment_with_reset(\"balanced tree\", initial_state, 50, create_resetting_graph, resetting_rate=0.5, mark_func=lambda x: x - 1)",
   "id": "5462d6ea5f592666",
   "outputs": [],
   "execution_count": 11
  },
  {
   "metadata": {},
   "cell_type": "markdown",
   "source": "### Complete graphs",
   "id": "292e56d805a9e6ef"
  },
  {
   "metadata": {
    "ExecuteTime": {
     "end_time": "2025-05-08T09:52:07.570771Z",
     "start_time": "2025-05-08T09:52:03.162271Z"
    }
   },
   "cell_type": "code",
   "source": "ht_50, prob_50 = graph_size_experiment(\"complete\", initial_state, 50)",
   "id": "eb457de4326ccf00",
   "outputs": [
    {
     "name": "stdout",
     "output_type": "stream",
     "text": [
      "Completed step 5.\n",
      "Completed step 10.\n",
      "Completed step 15.\n",
      "Completed step 20.\n",
      "Completed step 25.\n",
      "Completed step 30.\n",
      "Completed step 35.\n",
      "Completed step 40.\n",
      "Completed step 45.\n"
     ]
    }
   ],
   "execution_count": 12
  },
  {
   "metadata": {},
   "cell_type": "markdown",
   "source": "### Complete graphs with embeded resetting",
   "id": "9e2f145150db3b99"
  },
  {
   "metadata": {
    "ExecuteTime": {
     "end_time": "2025-05-08T09:52:23.309715Z",
     "start_time": "2025-05-08T09:52:18.909253Z"
    }
   },
   "cell_type": "code",
   "source": "ht_50, prob_50 = graph_size_experiment(\"complete\", initial_state, 50, resetting_rate=0.5)",
   "id": "15b7d03b4302b347",
   "outputs": [
    {
     "name": "stdout",
     "output_type": "stream",
     "text": [
      "Completed step 5.\n",
      "Completed step 10.\n",
      "Completed step 15.\n",
      "Completed step 20.\n",
      "Completed step 25.\n",
      "Completed step 30.\n",
      "Completed step 35.\n",
      "Completed step 40.\n",
      "Completed step 45.\n"
     ]
    }
   ],
   "execution_count": 13
  },
  {
   "metadata": {},
   "cell_type": "markdown",
   "source": "### Complete graphs with alternating resetting",
   "id": "a535d1f570a41893"
  },
  {
   "metadata": {
    "ExecuteTime": {
     "end_time": "2025-05-08T09:52:46.565486Z",
     "start_time": "2025-05-08T09:52:38.502299Z"
    }
   },
   "cell_type": "code",
   "source": "ht_50, prob_50 = graph_size_experiment_with_reset(\"complete\", initial_state, 50, create_resetting_graph, resetting_rate=0.5)",
   "id": "52bedafdd2062edc",
   "outputs": [],
   "execution_count": 14
  },
  {
   "metadata": {},
   "cell_type": "markdown",
   "source": "### Cycle graph, without resetting",
   "id": "f25a0a8b38147343"
  },
  {
   "metadata": {
    "ExecuteTime": {
     "end_time": "2025-05-08T09:53:07.170375Z",
     "start_time": "2025-05-08T09:53:02.371886Z"
    }
   },
   "cell_type": "code",
   "source": "ht_50, prob_50 = graph_size_experiment(\"cycle\", initial_state, 50)",
   "id": "3dbf5055705fd3d1",
   "outputs": [
    {
     "name": "stdout",
     "output_type": "stream",
     "text": [
      "Completed step 5.\n",
      "Completed step 10.\n",
      "Completed step 15.\n",
      "Completed step 20.\n",
      "Completed step 25.\n",
      "Completed step 30.\n",
      "Completed step 35.\n",
      "Completed step 40.\n",
      "Completed step 45.\n"
     ]
    }
   ],
   "execution_count": 15
  },
  {
   "metadata": {},
   "cell_type": "markdown",
   "source": "### Cycle graph, with embeded resetting",
   "id": "8c9365499b3b6fb6"
  },
  {
   "metadata": {
    "ExecuteTime": {
     "end_time": "2025-05-08T09:53:16.141713Z",
     "start_time": "2025-05-08T09:53:11.517673Z"
    }
   },
   "cell_type": "code",
   "source": "ht_50, prob_50 = graph_size_experiment(\"cycle\", initial_state, 50, resetting_rate=0.5)",
   "id": "65d2c03cbae10f45",
   "outputs": [
    {
     "name": "stdout",
     "output_type": "stream",
     "text": [
      "Completed step 5.\n",
      "Completed step 10.\n",
      "Completed step 15.\n",
      "Completed step 20.\n",
      "Completed step 25.\n",
      "Completed step 30.\n",
      "Completed step 35.\n",
      "Completed step 40.\n",
      "Completed step 45.\n"
     ]
    }
   ],
   "execution_count": 16
  },
  {
   "metadata": {},
   "cell_type": "markdown",
   "source": "### Cycle graph, alternating resetting",
   "id": "88536920654a5478"
  },
  {
   "metadata": {
    "ExecuteTime": {
     "end_time": "2025-05-08T09:53:27.636752Z",
     "start_time": "2025-05-08T09:53:19.552513Z"
    }
   },
   "cell_type": "code",
   "source": "ht_50, prob_50 = graph_size_experiment_with_reset(\"cycle\", initial_state, 50, create_resetting_graph, resetting_rate=0.4)",
   "id": "1785a71011ef0b6d",
   "outputs": [],
   "execution_count": 17
  },
  {
   "metadata": {},
   "cell_type": "markdown",
   "source": "### Star graph, no resetting",
   "id": "62c9efde83082db1"
  },
  {
   "metadata": {
    "ExecuteTime": {
     "end_time": "2025-05-08T09:53:32.205558Z",
     "start_time": "2025-05-08T09:53:27.644715Z"
    }
   },
   "cell_type": "code",
   "source": "ht_50, prob_50 = graph_size_experiment(\"star\", initial_state, 50)",
   "id": "b9dc4f2d31478a32",
   "outputs": [
    {
     "name": "stdout",
     "output_type": "stream",
     "text": [
      "Completed step 5.\n",
      "Completed step 10.\n",
      "Completed step 15.\n",
      "Completed step 20.\n",
      "Completed step 25.\n",
      "Completed step 30.\n",
      "Completed step 35.\n",
      "Completed step 40.\n",
      "Completed step 45.\n"
     ]
    }
   ],
   "execution_count": 18
  },
  {
   "metadata": {},
   "cell_type": "markdown",
   "source": "### Star graph, embedded resetting",
   "id": "80f9721a75416163"
  },
  {
   "metadata": {
    "ExecuteTime": {
     "end_time": "2025-05-08T09:53:43.354051Z",
     "start_time": "2025-05-08T09:53:38.764751Z"
    }
   },
   "cell_type": "code",
   "source": "ht_50, prob_50 = graph_size_experiment(\"star\", initial_state, 50, resetting_rate=0.3)",
   "id": "15ee9b43d83ad4a7",
   "outputs": [
    {
     "name": "stdout",
     "output_type": "stream",
     "text": [
      "Completed step 5.\n",
      "Completed step 10.\n",
      "Completed step 15.\n",
      "Completed step 20.\n",
      "Completed step 25.\n",
      "Completed step 30.\n",
      "Completed step 35.\n",
      "Completed step 40.\n",
      "Completed step 45.\n"
     ]
    }
   ],
   "execution_count": 19
  },
  {
   "metadata": {},
   "cell_type": "markdown",
   "source": "### Star graph, alternating resetting",
   "id": "7aa96e50400bb63b"
  },
  {
   "metadata": {
    "ExecuteTime": {
     "end_time": "2025-05-08T09:53:59.238034Z",
     "start_time": "2025-05-08T09:53:51.338175Z"
    }
   },
   "cell_type": "code",
   "source": "ht_50, prob_50 = graph_size_experiment_with_reset(\"star\", initial_state, 50, create_resetting_graph, resetting_rate=0.3)",
   "id": "2cfed2988ccb213e",
   "outputs": [],
   "execution_count": 20
  },
  {
   "metadata": {},
   "cell_type": "markdown",
   "source": "### Barbell graph, no resetting",
   "id": "2a6e154e223eab3a"
  },
  {
   "metadata": {
    "ExecuteTime": {
     "end_time": "2025-05-08T09:54:19.365150Z",
     "start_time": "2025-05-08T09:54:14.680434Z"
    }
   },
   "cell_type": "code",
   "source": "ht_50, prob_50 = graph_size_experiment(\"barbell\", initial_state, 50, start=6)",
   "id": "eb45fd0c4515cb1f",
   "outputs": [
    {
     "name": "stdout",
     "output_type": "stream",
     "text": [
      "Completed step 10.\n",
      "Completed step 15.\n",
      "Completed step 20.\n",
      "Completed step 25.\n",
      "Completed step 30.\n",
      "Completed step 35.\n",
      "Completed step 40.\n",
      "Completed step 45.\n"
     ]
    }
   ],
   "execution_count": 22
  },
  {
   "metadata": {},
   "cell_type": "markdown",
   "source": "### Barbell graph, embedded resetting",
   "id": "a0d5cb93e72eb2e5"
  },
  {
   "metadata": {
    "ExecuteTime": {
     "end_time": "2025-05-08T09:54:42.682557Z",
     "start_time": "2025-05-08T09:54:38.395804Z"
    }
   },
   "cell_type": "code",
   "source": "ht_50, prob_50 = graph_size_experiment(\"barbell\", initial_state, 50, resetting_rate=0.3, start=6)",
   "id": "7ef7ea3ab9d02964",
   "outputs": [
    {
     "name": "stdout",
     "output_type": "stream",
     "text": [
      "Completed step 10.\n",
      "Completed step 15.\n",
      "Completed step 20.\n",
      "Completed step 25.\n",
      "Completed step 30.\n",
      "Completed step 35.\n",
      "Completed step 40.\n",
      "Completed step 45.\n"
     ]
    }
   ],
   "execution_count": 24
  },
  {
   "metadata": {},
   "cell_type": "markdown",
   "source": "### Barbell graph, alternating resetting",
   "id": "901ecfe1f8b934e8"
  },
  {
   "metadata": {
    "ExecuteTime": {
     "end_time": "2025-05-08T09:55:41.969085Z",
     "start_time": "2025-05-08T09:55:33.820452Z"
    }
   },
   "cell_type": "code",
   "source": "ht_50, prob_50 = graph_size_experiment_with_reset(\"barbell\", initial_state, 50, create_resetting_graph, resetting_rate=0.3, start=6)",
   "id": "a564a3025bbcca38",
   "outputs": [],
   "execution_count": 27
  },
  {
   "metadata": {},
   "cell_type": "markdown",
   "source": "### Barbell graph, no resetting v2",
   "id": "e32a5f18a5f11adf"
  },
  {
   "metadata": {
    "ExecuteTime": {
     "end_time": "2025-05-08T09:56:06.953174Z",
     "start_time": "2025-05-08T09:56:02.661592Z"
    }
   },
   "cell_type": "code",
   "source": "ht_50, prob_50 = graph_size_experiment(\"barbell\", initial_state, 50, marked_vertice=lambda x: 0, start=6)",
   "id": "a8c91a13a083ae54",
   "outputs": [
    {
     "name": "stdout",
     "output_type": "stream",
     "text": [
      "Completed step 10.\n",
      "Completed step 15.\n",
      "Completed step 20.\n",
      "Completed step 25.\n",
      "Completed step 30.\n",
      "Completed step 35.\n",
      "Completed step 40.\n",
      "Completed step 45.\n"
     ]
    }
   ],
   "execution_count": 30
  },
  {
   "metadata": {},
   "cell_type": "markdown",
   "source": "### Barbell graph, embedded resetting v2",
   "id": "1dc01487d9cbcf34"
  },
  {
   "metadata": {
    "ExecuteTime": {
     "end_time": "2025-05-08T09:56:14.623427Z",
     "start_time": "2025-05-08T09:56:10.340480Z"
    }
   },
   "cell_type": "code",
   "source": "ht_50, prob_50 = graph_size_experiment(\"barbell\", initial_state, 50, resetting_rate=0.5, marked_vertice=lambda x: 0, start=6)",
   "id": "5e68e890b9406c02",
   "outputs": [
    {
     "name": "stdout",
     "output_type": "stream",
     "text": [
      "Completed step 10.\n",
      "Completed step 15.\n",
      "Completed step 20.\n",
      "Completed step 25.\n",
      "Completed step 30.\n",
      "Completed step 35.\n",
      "Completed step 40.\n",
      "Completed step 45.\n"
     ]
    }
   ],
   "execution_count": 31
  },
  {
   "metadata": {},
   "cell_type": "markdown",
   "source": "### Barbell graph, alternating resetting v2",
   "id": "417c0987d7f43d2f"
  },
  {
   "metadata": {
    "ExecuteTime": {
     "end_time": "2025-05-08T09:56:29.482440Z",
     "start_time": "2025-05-08T09:56:21.517335Z"
    }
   },
   "cell_type": "code",
   "source": [
    "ht_50, prob_50 = graph_size_experiment_with_reset(\"barbell\", initial_state, 50, create_resetting_graph,\n",
    "                                                  mark_func=lambda x: 0, resetting_rate=0.5, resetting_point_func=lambda x: x // 2 - 1, start=6)"
   ],
   "id": "9d76989c7a4e358d",
   "outputs": [],
   "execution_count": 33
  },
  {
   "metadata": {},
   "cell_type": "markdown",
   "source": "### Circular ladder graph, no resetting v2",
   "id": "da0c5a089ee4104c"
  },
  {
   "metadata": {
    "ExecuteTime": {
     "end_time": "2025-05-08T09:56:34.249796Z",
     "start_time": "2025-05-08T09:56:32.078810Z"
    }
   },
   "cell_type": "code",
   "source": "ht_50, prob_50 = graph_size_experiment(\"circular ladder\", initial_state, 50, 1000, lambda x: 1)",
   "id": "987d0e09895894db",
   "outputs": [
    {
     "name": "stdout",
     "output_type": "stream",
     "text": [
      "Completed step 10.\n",
      "Completed step 20.\n",
      "Completed step 30.\n",
      "Completed step 40.\n"
     ]
    }
   ],
   "execution_count": 34
  },
  {
   "metadata": {},
   "cell_type": "markdown",
   "source": "### Circular ladder graph, embedded resetting v2",
   "id": "f24229273fdab4c0"
  },
  {
   "metadata": {
    "ExecuteTime": {
     "end_time": "2025-05-08T09:56:47.503343Z",
     "start_time": "2025-05-08T09:56:45.393402Z"
    }
   },
   "cell_type": "code",
   "source": "ht_50, prob_50 = graph_size_experiment(\"circular ladder\", initial_state, 50, 1000, lambda x: 1, resetting_rate=0.5)",
   "id": "c000b66fd41573cb",
   "outputs": [
    {
     "name": "stdout",
     "output_type": "stream",
     "text": [
      "Completed step 10.\n",
      "Completed step 20.\n",
      "Completed step 30.\n",
      "Completed step 40.\n"
     ]
    }
   ],
   "execution_count": 35
  },
  {
   "metadata": {},
   "cell_type": "markdown",
   "source": "### Circular ladder graph, alternating resetting v2",
   "id": "6c9de3b76627e158"
  },
  {
   "metadata": {
    "ExecuteTime": {
     "end_time": "2025-05-08T09:56:58.461057Z",
     "start_time": "2025-05-08T09:56:54.756517Z"
    }
   },
   "cell_type": "code",
   "source": "ht_50, prob_50 = graph_size_experiment_with_reset(\"circular ladder\", initial_state, 50, create_resetting_graph, mark_func=lambda x: 1, resetting_rate=0.5)",
   "id": "7b6353236b071f9",
   "outputs": [],
   "execution_count": 36
  },
  {
   "metadata": {},
   "cell_type": "markdown",
   "source": "### Circular ladder graph, no resetting",
   "id": "a053385bd1a96faa"
  },
  {
   "metadata": {
    "ExecuteTime": {
     "end_time": "2025-05-08T09:57:16.130485Z",
     "start_time": "2025-05-08T09:57:13.987042Z"
    }
   },
   "cell_type": "code",
   "source": "ht_50, prob_50 = graph_size_experiment(\"circular ladder\", initial_state, 50, 1000, lambda x: x // 4)",
   "id": "dac127ab2c282f5f",
   "outputs": [
    {
     "name": "stdout",
     "output_type": "stream",
     "text": [
      "Completed step 10.\n",
      "Completed step 20.\n",
      "Completed step 30.\n",
      "Completed step 40.\n"
     ]
    }
   ],
   "execution_count": 38
  },
  {
   "metadata": {},
   "cell_type": "markdown",
   "source": "### Circular ladder graph, embedded resetting",
   "id": "10d96178fbac4004"
  },
  {
   "metadata": {
    "ExecuteTime": {
     "end_time": "2025-05-08T09:57:34.181707Z",
     "start_time": "2025-05-08T09:57:32.136912Z"
    }
   },
   "cell_type": "code",
   "source": "ht_50, prob_50 = graph_size_experiment(\"circular ladder\", initial_state, 50, 1000, lambda x: x // 4, resetting_rate=0.3)",
   "id": "84d97ee47328fca2",
   "outputs": [
    {
     "name": "stdout",
     "output_type": "stream",
     "text": [
      "Completed step 10.\n",
      "Completed step 20.\n",
      "Completed step 30.\n",
      "Completed step 40.\n"
     ]
    }
   ],
   "execution_count": 39
  },
  {
   "metadata": {},
   "cell_type": "markdown",
   "source": "### Circulat ladder, alternating resetting",
   "id": "695847fd60d359f3"
  },
  {
   "metadata": {
    "ExecuteTime": {
     "end_time": "2025-05-08T09:57:54.670401Z",
     "start_time": "2025-05-08T09:57:51.021783Z"
    }
   },
   "cell_type": "code",
   "source": "ht_50, prob_50 = graph_size_experiment_with_reset(\"circular ladder\", initial_state, 50, create_resetting_graph, mark_func=lambda x: x // 4, resetting_rate=0.3)",
   "id": "39153ce737740646",
   "outputs": [],
   "execution_count": 40
  },
  {
   "metadata": {},
   "cell_type": "code",
   "outputs": [],
   "execution_count": null,
   "source": "",
   "id": "347934f99cd437de"
  }
 ],
 "metadata": {
  "kernelspec": {
   "display_name": "Python 3",
   "language": "python",
   "name": "python3"
  },
  "language_info": {
   "codemirror_mode": {
    "name": "ipython",
    "version": 2
   },
   "file_extension": ".py",
   "mimetype": "text/x-python",
   "name": "python",
   "nbconvert_exporter": "python",
   "pygments_lexer": "ipython2",
   "version": "2.7.6"
  }
 },
 "nbformat": 4,
 "nbformat_minor": 5
}
