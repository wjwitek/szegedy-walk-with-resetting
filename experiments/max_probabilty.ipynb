{
 "cells": [
  {
   "cell_type": "code",
   "id": "initial_id",
   "metadata": {
    "collapsed": true,
    "ExecuteTime": {
     "end_time": "2025-05-08T09:34:34.242891Z",
     "start_time": "2025-05-08T09:34:34.198409Z"
    }
   },
   "source": [
    "%load_ext autoreload\n",
    "%autoreload 2"
   ],
   "outputs": [],
   "execution_count": 1
  },
  {
   "metadata": {
    "ExecuteTime": {
     "end_time": "2025-05-08T09:34:34.846716Z",
     "start_time": "2025-05-08T09:34:34.247698Z"
    }
   },
   "cell_type": "code",
   "source": [
    "from utils.utils import *\n",
    "from utils.graph_generators import *"
   ],
   "id": "85eaf33a28af1d6d",
   "outputs": [],
   "execution_count": 2
  },
  {
   "metadata": {
    "ExecuteTime": {
     "end_time": "2025-05-08T09:34:35.057325Z",
     "start_time": "2025-05-08T09:34:34.994555Z"
    }
   },
   "cell_type": "code",
   "source": [
    "def find_max_probability(init_state, marked_matrix, max_t, marked_vertice):\n",
    "    current_state = init_state\n",
    "    szegedy = SzegedyRandomWalk(marked_matrix)\n",
    "    max_probability = 0\n",
    "    max_i = -1\n",
    "\n",
    "    for i in range(max_t):\n",
    "        if extract_probability(current_state, marked_vertice) > max_probability:\n",
    "            max_probability = extract_probability(current_state, marked_vertice)\n",
    "            max_i = i\n",
    "        current_state = szegedy.operator @ current_state\n",
    "\n",
    "    return max_probability, max_i"
   ],
   "id": "a66ea0fe47e36a0e",
   "outputs": [],
   "execution_count": 3
  },
  {
   "metadata": {
    "ExecuteTime": {
     "end_time": "2025-05-08T09:34:35.130598Z",
     "start_time": "2025-05-08T09:34:35.064979Z"
    }
   },
   "cell_type": "code",
   "source": [
    "def max_probability_experiment(graph_name, init_state_func, max_t, marked_vertice_func, resetting_rate=0.3, start=2, max_size=50):\n",
    "    probabilities = []\n",
    "    times = []\n",
    "\n",
    "    for i in range(start, max_size):\n",
    "        unmarked, marked = create_graph(graph_name, i, marked_vertice_func(i), resetting_rate)\n",
    "        if unmarked is None:\n",
    "            continue\n",
    "        initial_st = init_state_func(unmarked)\n",
    "        prob, time = find_max_probability(initial_st, marked, max_t, marked_vertice_func(i))\n",
    "        probabilities.append(prob)\n",
    "        times.append(time)\n",
    "        if i % 5 == 0:\n",
    "            print(f\"Completed step {i}.\")\n",
    "\n",
    "    return probabilities, times"
   ],
   "id": "94cec46edba7d994",
   "outputs": [],
   "execution_count": 4
  },
  {
   "metadata": {},
   "cell_type": "markdown",
   "source": "## Complete graph",
   "id": "a929deac2128716e"
  },
  {
   "metadata": {
    "ExecuteTime": {
     "end_time": "2025-05-08T09:35:57.896822Z",
     "start_time": "2025-05-08T09:35:52.128938Z"
    }
   },
   "cell_type": "code",
   "source": "prob, ts = max_probability_experiment(\"complete\", initial_state, 100, lambda x: 1, resetting_rate=0.5)",
   "id": "ade0199d6e2b3e4d",
   "outputs": [
    {
     "name": "stdout",
     "output_type": "stream",
     "text": [
      "Completed step 5.\n",
      "Completed step 10.\n",
      "Completed step 15.\n",
      "Completed step 20.\n",
      "Completed step 25.\n",
      "Completed step 30.\n",
      "Completed step 35.\n",
      "Completed step 40.\n",
      "Completed step 45.\n"
     ]
    }
   ],
   "execution_count": 5
  },
  {
   "metadata": {},
   "cell_type": "markdown",
   "source": "## Star graph",
   "id": "484bf5d39ab91b4"
  },
  {
   "metadata": {
    "ExecuteTime": {
     "end_time": "2025-05-08T09:36:08.123409Z",
     "start_time": "2025-05-08T09:36:02.145781Z"
    }
   },
   "cell_type": "code",
   "source": "prob, ts = max_probability_experiment(\"star\", initial_state, 100, lambda x: 1, resetting_rate=0.5)",
   "id": "1dad897f41015f70",
   "outputs": [
    {
     "name": "stdout",
     "output_type": "stream",
     "text": [
      "Completed step 5.\n",
      "Completed step 10.\n",
      "Completed step 15.\n",
      "Completed step 20.\n",
      "Completed step 25.\n",
      "Completed step 30.\n",
      "Completed step 35.\n",
      "Completed step 40.\n",
      "Completed step 45.\n"
     ]
    }
   ],
   "execution_count": 6
  },
  {
   "metadata": {},
   "cell_type": "markdown",
   "source": "### Circular ladder, close to goal",
   "id": "52c85b96dad8956b"
  },
  {
   "metadata": {
    "ExecuteTime": {
     "end_time": "2025-05-08T09:36:43.829640Z",
     "start_time": "2025-05-08T09:36:41.044105Z"
    }
   },
   "cell_type": "code",
   "source": [
    "prob, ts = max_probability_experiment(\"circular ladder\", initial_state, 100, lambda x: 1,\n",
    "                                      resetting_rate=0.5)"
   ],
   "id": "93b6335f1d7a9e03",
   "outputs": [
    {
     "name": "stdout",
     "output_type": "stream",
     "text": [
      "Completed step 10.\n",
      "Completed step 20.\n",
      "Completed step 30.\n",
      "Completed step 40.\n"
     ]
    }
   ],
   "execution_count": 8
  },
  {
   "metadata": {},
   "cell_type": "markdown",
   "source": "## Barbell graph, close to goal",
   "id": "f2e8efecf2a68155"
  },
  {
   "metadata": {
    "ExecuteTime": {
     "end_time": "2025-05-08T09:37:23.683908Z",
     "start_time": "2025-05-08T09:37:17.850080Z"
    }
   },
   "cell_type": "code",
   "source": [
    "prob, ts = max_probability_experiment(\"barbell\", initial_state, 100, lambda x: 0,\n",
    "                                      resetting_rate=0.5, start=6)"
   ],
   "id": "f45fee001bf04fb3",
   "outputs": [
    {
     "name": "stdout",
     "output_type": "stream",
     "text": [
      "Completed step 10.\n",
      "Completed step 15.\n",
      "Completed step 20.\n",
      "Completed step 25.\n",
      "Completed step 30.\n",
      "Completed step 35.\n",
      "Completed step 40.\n",
      "Completed step 45.\n"
     ]
    }
   ],
   "execution_count": 10
  },
  {
   "metadata": {},
   "cell_type": "markdown",
   "source": "## Cycle graph, close to goal",
   "id": "ad891c5ad214e562"
  },
  {
   "metadata": {
    "ExecuteTime": {
     "end_time": "2025-05-08T09:37:34.258378Z",
     "start_time": "2025-05-08T09:37:28.182442Z"
    }
   },
   "cell_type": "code",
   "source": [
    "prob, ts = max_probability_experiment(\"cycle\", initial_state, 100, lambda x: 1,\n",
    "                                      resetting_rate=0.5)"
   ],
   "id": "204a066c311c05a7",
   "outputs": [
    {
     "name": "stdout",
     "output_type": "stream",
     "text": [
      "Completed step 5.\n",
      "Completed step 10.\n",
      "Completed step 15.\n",
      "Completed step 20.\n",
      "Completed step 25.\n",
      "Completed step 30.\n",
      "Completed step 35.\n",
      "Completed step 40.\n",
      "Completed step 45.\n"
     ]
    }
   ],
   "execution_count": 11
  },
  {
   "metadata": {},
   "cell_type": "markdown",
   "source": "## Tree",
   "id": "f962406af5b0c380"
  },
  {
   "metadata": {
    "ExecuteTime": {
     "end_time": "2025-05-08T09:37:45.583614Z",
     "start_time": "2025-05-08T09:37:39.720598Z"
    }
   },
   "cell_type": "code",
   "source": [
    "prob, ts = max_probability_experiment(\"balanced tree\", initial_state, 100, lambda x: x - 1,\n",
    "                                      resetting_rate=0.5)"
   ],
   "id": "28f51e38b5baff86",
   "outputs": [
    {
     "name": "stdout",
     "output_type": "stream",
     "text": [
      "Completed step 5.\n",
      "Completed step 10.\n",
      "Completed step 15.\n",
      "Completed step 20.\n",
      "Completed step 25.\n",
      "Completed step 30.\n",
      "Completed step 35.\n",
      "Completed step 40.\n",
      "Completed step 45.\n"
     ]
    }
   ],
   "execution_count": 13
  },
  {
   "metadata": {},
   "cell_type": "code",
   "outputs": [],
   "execution_count": null,
   "source": "",
   "id": "89410b036476e05b"
  }
 ],
 "metadata": {
  "kernelspec": {
   "display_name": "Python 3",
   "language": "python",
   "name": "python3"
  },
  "language_info": {
   "codemirror_mode": {
    "name": "ipython",
    "version": 2
   },
   "file_extension": ".py",
   "mimetype": "text/x-python",
   "name": "python",
   "nbconvert_exporter": "python",
   "pygments_lexer": "ipython2",
   "version": "2.7.6"
  }
 },
 "nbformat": 4,
 "nbformat_minor": 5
}
