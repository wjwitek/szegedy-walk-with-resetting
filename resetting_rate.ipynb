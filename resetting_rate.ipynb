{
 "cells": [
  {
   "cell_type": "code",
   "id": "initial_id",
   "metadata": {
    "collapsed": true,
    "ExecuteTime": {
     "end_time": "2024-10-22T19:51:34.415786Z",
     "start_time": "2024-10-22T19:51:34.035925Z"
    }
   },
   "source": [
    "import numpy as np\n",
    "from szegedy import SzegedyRandomWalk"
   ],
   "outputs": [],
   "execution_count": 1
  },
  {
   "metadata": {},
   "cell_type": "markdown",
   "source": "I'm tracking the number of steps it takes for the probability in starting point to reach > 0.75.",
   "id": "1f1bf72c1fd6c28d"
  },
  {
   "metadata": {
    "ExecuteTime": {
     "end_time": "2024-10-22T20:52:08.519206Z",
     "start_time": "2024-10-22T20:52:08.495966Z"
    }
   },
   "cell_type": "code",
   "source": [
    "def test_resetting_rate(n, resetting_func):\n",
    "    times = np.zeros(n)\n",
    "    \n",
    "    for i in range(2, n):\n",
    "        # crete the matrix\n",
    "        matrix = np.zeros((i, i))\n",
    "        # add loop for starting point\n",
    "        matrix[0][0] = 1\n",
    "        \n",
    "        # add resetting edges and loops\n",
    "        for j in range(1, i):\n",
    "            matrix[j][0] = resetting_func(i)\n",
    "            matrix[j][j] = 1 - matrix[j][0]\n",
    "        \n",
    "        # print(matrix)\n",
    "            \n",
    "        szegedy = SzegedyRandomWalk(matrix)\n",
    "            \n",
    "        # starting position\n",
    "        if i == 1:\n",
    "            initial_state = np.array([0, 1])\n",
    "        else:\n",
    "            initial_state = np.ones(i)\n",
    "            initial_state[0] = 0\n",
    "        initial_state_H = np.kron(initial_state, initial_state) * 1 / np.sqrt(i - 1)\n",
    "        \n",
    "        # print(f\"Initial state: {initial_state_H}\")\n",
    "        \n",
    "        # perform walk\n",
    "        t = 1\n",
    "        state = initial_state_H\n",
    "        while t < 100:\n",
    "            # print(szegedy.state_at(t, initial_state_H))\n",
    "            # print(np.power(szegedy.state_at(t, initial_state_H), 2).reshape((i,i)).sum(axis=1))\n",
    "            # print(\"---\")\n",
    "            state = szegedy.operator @ state\n",
    "            if np.power(state, 2).reshape((i,i)).sum(axis=1)[0] > 0.5:\n",
    "                times[i] = t\n",
    "                break\n",
    "            t += 1\n",
    "        if t == 100:\n",
    "            times[i] = \"inf\"\n",
    "    \n",
    "    return times"
   ],
   "id": "22f0cea581deaa9c",
   "outputs": [],
   "execution_count": 90
  },
  {
   "metadata": {
    "ExecuteTime": {
     "end_time": "2024-10-22T20:44:32.602686Z",
     "start_time": "2024-10-22T20:44:11.121178Z"
    }
   },
   "cell_type": "code",
   "source": "test_resetting_rate(50, lambda x: 1)",
   "id": "a40fe7db629cbb9b",
   "outputs": [
    {
     "data": {
      "text/plain": [
       "array([ 0.,  0.,  3.,  4.,  6.,  8.,  9., 11., 12., 14., 16., 17., 19.,\n",
       "       20., 22., 24., 25., 27., 28., 30., 32., 33., 35., 37., 38., 40.,\n",
       "       41., 43., 45., 46., 48., 50., 51., 53., 54., 56., 58., 59., 61.,\n",
       "       63., 64., 66., 67., 69., 71., 72., 74., 76., 77., 79.])"
      ]
     },
     "execution_count": 71,
     "metadata": {},
     "output_type": "execute_result"
    }
   ],
   "execution_count": 71
  },
  {
   "metadata": {
    "ExecuteTime": {
     "end_time": "2024-10-22T20:44:57.911124Z",
     "start_time": "2024-10-22T20:44:37.053341Z"
    }
   },
   "cell_type": "code",
   "source": "test_resetting_rate(50, lambda x: 4 / x)",
   "id": "4b80d2b037e125bc",
   "outputs": [
    {
     "data": {
      "text/plain": [
       "array([ 0.,  0., inf,  2.,  3.,  4.,  4.,  5.,  6.,  7.,  8.,  8.,  9.,\n",
       "       10., 11., 12., 12., 13., 14., 15., 16., 16., 17., 18., 19., 20.,\n",
       "       20., 21., 22., 23., 24., 24., 25., 26., 27., 28., 28., 29., 30.,\n",
       "       31., 32., 32., 33., 34., 35., 36., 37., 37., 38., 39.])"
      ]
     },
     "execution_count": 73,
     "metadata": {},
     "output_type": "execute_result"
    }
   ],
   "execution_count": 73
  },
  {
   "metadata": {
    "ExecuteTime": {
     "end_time": "2024-10-22T20:45:16.052325Z",
     "start_time": "2024-10-22T20:44:58.049431Z"
    }
   },
   "cell_type": "code",
   "source": "test_resetting_rate(50, lambda x: 4 / np.sqrt(x))",
   "id": "710ad8e9b0eb1dfc",
   "outputs": [
    {
     "data": {
      "text/plain": [
       "array([ 0.,  0., inf,  4.,  2.,  2.,  3.,  3.,  4.,  4.,  4.,  4.,  5.,\n",
       "        5.,  5.,  6.,  6.,  6.,  7.,  7.,  7.,  7.,  8.,  8.,  8.,  9.,\n",
       "        9.,  9.,  9., 10., 10., 10., 10., 11., 11., 11., 11., 12., 12.,\n",
       "       12., 12., 13., 13., 13., 13., 13., 14., 14., 14., 14.])"
      ]
     },
     "execution_count": 74,
     "metadata": {},
     "output_type": "execute_result"
    }
   ],
   "execution_count": 74
  },
  {
   "metadata": {
    "ExecuteTime": {
     "end_time": "2024-10-22T20:54:24.442826Z",
     "start_time": "2024-10-22T20:54:08.652791Z"
    }
   },
   "cell_type": "code",
   "source": "test_resetting_rate(50, lambda x: 1 / 5)",
   "id": "9a2bb43a41f9c89e",
   "outputs": [
    {
     "data": {
      "text/plain": [
       "array([0., 0., 3., 3., 3., 3., 3., 3., 3., 3., 3., 3., 3., 3., 3., 3., 3.,\n",
       "       3., 3., 3., 3., 3., 3., 3., 3., 3., 3., 3., 3., 3., 3., 3., 3., 3.,\n",
       "       3., 3., 3., 3., 3., 3., 3., 3., 3., 3., 3., 3., 3., 3., 3., 3.])"
      ]
     },
     "execution_count": 92,
     "metadata": {},
     "output_type": "execute_result"
    }
   ],
   "execution_count": 92
  },
  {
   "metadata": {},
   "cell_type": "code",
   "outputs": [],
   "execution_count": null,
   "source": "",
   "id": "79b4d68c40c8051b"
  }
 ],
 "metadata": {
  "kernelspec": {
   "display_name": "Python 3",
   "language": "python",
   "name": "python3"
  },
  "language_info": {
   "codemirror_mode": {
    "name": "ipython",
    "version": 2
   },
   "file_extension": ".py",
   "mimetype": "text/x-python",
   "name": "python",
   "nbconvert_exporter": "python",
   "pygments_lexer": "ipython2",
   "version": "2.7.6"
  }
 },
 "nbformat": 4,
 "nbformat_minor": 5
}
