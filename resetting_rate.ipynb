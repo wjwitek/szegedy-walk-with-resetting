{
 "cells": [
  {
   "cell_type": "code",
   "id": "initial_id",
   "metadata": {
    "collapsed": true,
    "ExecuteTime": {
     "end_time": "2024-10-22T19:51:34.415786Z",
     "start_time": "2024-10-22T19:51:34.035925Z"
    }
   },
   "source": [
    "import numpy as np\n",
    "from szegedy import SzegedyRandomWalk"
   ],
   "outputs": [],
   "execution_count": 1
  },
  {
   "metadata": {},
   "cell_type": "markdown",
   "source": "I'm tracking the number of steps it takes for the probability in starting point to reach > 0.75.",
   "id": "1f1bf72c1fd6c28d"
  },
  {
   "metadata": {
    "ExecuteTime": {
     "end_time": "2024-10-22T20:31:42.911344Z",
     "start_time": "2024-10-22T20:31:42.884657Z"
    }
   },
   "cell_type": "code",
   "source": [
    "def test_resetting_rate(n, resetting_func):\n",
    "    times = np.zeros(n)\n",
    "    \n",
    "    for i in range(2, n):\n",
    "        # crete the matrix\n",
    "        matrix = np.zeros((i, i))\n",
    "        # add loop for starting point\n",
    "        matrix[0][0] = 1\n",
    "        \n",
    "        # add resetting edges and loops\n",
    "        for j in range(1, i):\n",
    "            matrix[j][0] = resetting_func(i) / n\n",
    "            matrix[j][j] = 1 - matrix[j][0]\n",
    "        \n",
    "        # print(matrix)\n",
    "            \n",
    "        szegedy = SzegedyRandomWalk(matrix)\n",
    "            \n",
    "        # starting position\n",
    "        if i == 1:\n",
    "            initial_state = np.array([0, 1])\n",
    "        else:\n",
    "            initial_state = np.ones(i)\n",
    "            initial_state[0] = 0\n",
    "        initial_state_H = np.kron(initial_state, initial_state) * 1 / np.sqrt(i - 1)\n",
    "        \n",
    "        # print(f\"Initial state: {initial_state_H}\")\n",
    "        \n",
    "        # perform walk\n",
    "        t = 1\n",
    "        state = initial_state_H\n",
    "        while t < 100:\n",
    "            # print(szegedy.state_at(t, initial_state_H))\n",
    "            # print(np.power(szegedy.state_at(t, initial_state_H), 2).reshape((i,i)).sum(axis=1))\n",
    "            # print(\"---\")\n",
    "            state = szegedy.operator @ state\n",
    "            if np.power(state, 2).reshape((i,i)).sum(axis=1)[0] > 0.5:\n",
    "                times[i] = t\n",
    "                break\n",
    "            t += 1\n",
    "        if t == 100:\n",
    "            times[i] = \"inf\"\n",
    "    \n",
    "    return times"
   ],
   "id": "22f0cea581deaa9c",
   "outputs": [],
   "execution_count": 55
  },
  {
   "metadata": {
    "ExecuteTime": {
     "end_time": "2024-10-22T20:32:00.698854Z",
     "start_time": "2024-10-22T20:32:00.243571Z"
    }
   },
   "cell_type": "code",
   "source": "test_resetting_rate(15, lambda x: 4 / x)",
   "id": "4b80d2b037e125bc",
   "outputs": [
    {
     "data": {
      "text/plain": [
       "array([ 0.,  0.,  4.,  5.,  6.,  7.,  7.,  8.,  8.,  9.,  9., 10., 10.,\n",
       "       11., 11.])"
      ]
     },
     "execution_count": 57,
     "metadata": {},
     "output_type": "execute_result"
    }
   ],
   "execution_count": 57
  },
  {
   "metadata": {
    "ExecuteTime": {
     "end_time": "2024-10-22T20:32:08.621807Z",
     "start_time": "2024-10-22T20:32:07.519219Z"
    }
   },
   "cell_type": "code",
   "source": "test_resetting_rate(20, lambda x: 4 / np.sqrt(x))",
   "id": "710ad8e9b0eb1dfc",
   "outputs": [
    {
     "data": {
      "text/plain": [
       "array([0., 0., 4., 4., 5., 5., 5., 5., 6., 6., 6., 6., 6., 6., 7., 7., 7.,\n",
       "       7., 7., 7.])"
      ]
     },
     "execution_count": 58,
     "metadata": {},
     "output_type": "execute_result"
    }
   ],
   "execution_count": 58
  }
 ],
 "metadata": {
  "kernelspec": {
   "display_name": "Python 3",
   "language": "python",
   "name": "python3"
  },
  "language_info": {
   "codemirror_mode": {
    "name": "ipython",
    "version": 2
   },
   "file_extension": ".py",
   "mimetype": "text/x-python",
   "name": "python",
   "nbconvert_exporter": "python",
   "pygments_lexer": "ipython2",
   "version": "2.7.6"
  }
 },
 "nbformat": 4,
 "nbformat_minor": 5
}
